{
  "nbformat": 4,
  "nbformat_minor": 0,
  "metadata": {
    "colab": {
      "provenance": [],
      "machine_shape": "hm",
      "gpuType": "A100",
      "mount_file_id": "1lAzLF5E0gL7YETezWO4Wch32or1etpcE",
      "authorship_tag": "ABX9TyMjvosgX1ksXkPFtQMyGJQR",
      "include_colab_link": true
    },
    "kernelspec": {
      "name": "python3",
      "display_name": "Python 3"
    },
    "language_info": {
      "name": "python"
    },
    "accelerator": "GPU",
    "widgets": {
      "application/vnd.jupyter.widget-state+json": {
        "9faf16a117364f67a9617e43854c6822": {
          "model_module": "@jupyter-widgets/controls",
          "model_name": "HBoxModel",
          "model_module_version": "1.5.0",
          "state": {
            "_dom_classes": [],
            "_model_module": "@jupyter-widgets/controls",
            "_model_module_version": "1.5.0",
            "_model_name": "HBoxModel",
            "_view_count": null,
            "_view_module": "@jupyter-widgets/controls",
            "_view_module_version": "1.5.0",
            "_view_name": "HBoxView",
            "box_style": "",
            "children": [
              "IPY_MODEL_90c33b2cf4994e69b147f78ce9a63b7a",
              "IPY_MODEL_663ef536e2fb4ec28025057f00045d55",
              "IPY_MODEL_859e9b2e47954bb58214236a0ea03640"
            ],
            "layout": "IPY_MODEL_d6d05806ef4147029ca6648eddb7d0d8"
          }
        },
        "90c33b2cf4994e69b147f78ce9a63b7a": {
          "model_module": "@jupyter-widgets/controls",
          "model_name": "HTMLModel",
          "model_module_version": "1.5.0",
          "state": {
            "_dom_classes": [],
            "_model_module": "@jupyter-widgets/controls",
            "_model_module_version": "1.5.0",
            "_model_name": "HTMLModel",
            "_view_count": null,
            "_view_module": "@jupyter-widgets/controls",
            "_view_module_version": "1.5.0",
            "_view_name": "HTMLView",
            "description": "",
            "description_tooltip": null,
            "layout": "IPY_MODEL_25cc3411bd3c4f129bd22b03222dd708",
            "placeholder": "​",
            "style": "IPY_MODEL_80b41b872e284373beb6432d620108ce",
            "value": "Loading checkpoint shards: 100%"
          }
        },
        "663ef536e2fb4ec28025057f00045d55": {
          "model_module": "@jupyter-widgets/controls",
          "model_name": "FloatProgressModel",
          "model_module_version": "1.5.0",
          "state": {
            "_dom_classes": [],
            "_model_module": "@jupyter-widgets/controls",
            "_model_module_version": "1.5.0",
            "_model_name": "FloatProgressModel",
            "_view_count": null,
            "_view_module": "@jupyter-widgets/controls",
            "_view_module_version": "1.5.0",
            "_view_name": "ProgressView",
            "bar_style": "success",
            "description": "",
            "description_tooltip": null,
            "layout": "IPY_MODEL_706ac21054de424993a0f0ef92171324",
            "max": 2,
            "min": 0,
            "orientation": "horizontal",
            "style": "IPY_MODEL_bc591d5e1dc74f7387aa795546ed056e",
            "value": 2
          }
        },
        "859e9b2e47954bb58214236a0ea03640": {
          "model_module": "@jupyter-widgets/controls",
          "model_name": "HTMLModel",
          "model_module_version": "1.5.0",
          "state": {
            "_dom_classes": [],
            "_model_module": "@jupyter-widgets/controls",
            "_model_module_version": "1.5.0",
            "_model_name": "HTMLModel",
            "_view_count": null,
            "_view_module": "@jupyter-widgets/controls",
            "_view_module_version": "1.5.0",
            "_view_name": "HTMLView",
            "description": "",
            "description_tooltip": null,
            "layout": "IPY_MODEL_dcd0339bfad948a8a0ed5cbd54f2a40a",
            "placeholder": "​",
            "style": "IPY_MODEL_011185bde8224d6cafc42b06513726ca",
            "value": " 2/2 [00:10&lt;00:00,  5.00s/it]"
          }
        },
        "d6d05806ef4147029ca6648eddb7d0d8": {
          "model_module": "@jupyter-widgets/base",
          "model_name": "LayoutModel",
          "model_module_version": "1.2.0",
          "state": {
            "_model_module": "@jupyter-widgets/base",
            "_model_module_version": "1.2.0",
            "_model_name": "LayoutModel",
            "_view_count": null,
            "_view_module": "@jupyter-widgets/base",
            "_view_module_version": "1.2.0",
            "_view_name": "LayoutView",
            "align_content": null,
            "align_items": null,
            "align_self": null,
            "border": null,
            "bottom": null,
            "display": null,
            "flex": null,
            "flex_flow": null,
            "grid_area": null,
            "grid_auto_columns": null,
            "grid_auto_flow": null,
            "grid_auto_rows": null,
            "grid_column": null,
            "grid_gap": null,
            "grid_row": null,
            "grid_template_areas": null,
            "grid_template_columns": null,
            "grid_template_rows": null,
            "height": null,
            "justify_content": null,
            "justify_items": null,
            "left": null,
            "margin": null,
            "max_height": null,
            "max_width": null,
            "min_height": null,
            "min_width": null,
            "object_fit": null,
            "object_position": null,
            "order": null,
            "overflow": null,
            "overflow_x": null,
            "overflow_y": null,
            "padding": null,
            "right": null,
            "top": null,
            "visibility": null,
            "width": null
          }
        },
        "25cc3411bd3c4f129bd22b03222dd708": {
          "model_module": "@jupyter-widgets/base",
          "model_name": "LayoutModel",
          "model_module_version": "1.2.0",
          "state": {
            "_model_module": "@jupyter-widgets/base",
            "_model_module_version": "1.2.0",
            "_model_name": "LayoutModel",
            "_view_count": null,
            "_view_module": "@jupyter-widgets/base",
            "_view_module_version": "1.2.0",
            "_view_name": "LayoutView",
            "align_content": null,
            "align_items": null,
            "align_self": null,
            "border": null,
            "bottom": null,
            "display": null,
            "flex": null,
            "flex_flow": null,
            "grid_area": null,
            "grid_auto_columns": null,
            "grid_auto_flow": null,
            "grid_auto_rows": null,
            "grid_column": null,
            "grid_gap": null,
            "grid_row": null,
            "grid_template_areas": null,
            "grid_template_columns": null,
            "grid_template_rows": null,
            "height": null,
            "justify_content": null,
            "justify_items": null,
            "left": null,
            "margin": null,
            "max_height": null,
            "max_width": null,
            "min_height": null,
            "min_width": null,
            "object_fit": null,
            "object_position": null,
            "order": null,
            "overflow": null,
            "overflow_x": null,
            "overflow_y": null,
            "padding": null,
            "right": null,
            "top": null,
            "visibility": null,
            "width": null
          }
        },
        "80b41b872e284373beb6432d620108ce": {
          "model_module": "@jupyter-widgets/controls",
          "model_name": "DescriptionStyleModel",
          "model_module_version": "1.5.0",
          "state": {
            "_model_module": "@jupyter-widgets/controls",
            "_model_module_version": "1.5.0",
            "_model_name": "DescriptionStyleModel",
            "_view_count": null,
            "_view_module": "@jupyter-widgets/base",
            "_view_module_version": "1.2.0",
            "_view_name": "StyleView",
            "description_width": ""
          }
        },
        "706ac21054de424993a0f0ef92171324": {
          "model_module": "@jupyter-widgets/base",
          "model_name": "LayoutModel",
          "model_module_version": "1.2.0",
          "state": {
            "_model_module": "@jupyter-widgets/base",
            "_model_module_version": "1.2.0",
            "_model_name": "LayoutModel",
            "_view_count": null,
            "_view_module": "@jupyter-widgets/base",
            "_view_module_version": "1.2.0",
            "_view_name": "LayoutView",
            "align_content": null,
            "align_items": null,
            "align_self": null,
            "border": null,
            "bottom": null,
            "display": null,
            "flex": null,
            "flex_flow": null,
            "grid_area": null,
            "grid_auto_columns": null,
            "grid_auto_flow": null,
            "grid_auto_rows": null,
            "grid_column": null,
            "grid_gap": null,
            "grid_row": null,
            "grid_template_areas": null,
            "grid_template_columns": null,
            "grid_template_rows": null,
            "height": null,
            "justify_content": null,
            "justify_items": null,
            "left": null,
            "margin": null,
            "max_height": null,
            "max_width": null,
            "min_height": null,
            "min_width": null,
            "object_fit": null,
            "object_position": null,
            "order": null,
            "overflow": null,
            "overflow_x": null,
            "overflow_y": null,
            "padding": null,
            "right": null,
            "top": null,
            "visibility": null,
            "width": null
          }
        },
        "bc591d5e1dc74f7387aa795546ed056e": {
          "model_module": "@jupyter-widgets/controls",
          "model_name": "ProgressStyleModel",
          "model_module_version": "1.5.0",
          "state": {
            "_model_module": "@jupyter-widgets/controls",
            "_model_module_version": "1.5.0",
            "_model_name": "ProgressStyleModel",
            "_view_count": null,
            "_view_module": "@jupyter-widgets/base",
            "_view_module_version": "1.2.0",
            "_view_name": "StyleView",
            "bar_color": null,
            "description_width": ""
          }
        },
        "dcd0339bfad948a8a0ed5cbd54f2a40a": {
          "model_module": "@jupyter-widgets/base",
          "model_name": "LayoutModel",
          "model_module_version": "1.2.0",
          "state": {
            "_model_module": "@jupyter-widgets/base",
            "_model_module_version": "1.2.0",
            "_model_name": "LayoutModel",
            "_view_count": null,
            "_view_module": "@jupyter-widgets/base",
            "_view_module_version": "1.2.0",
            "_view_name": "LayoutView",
            "align_content": null,
            "align_items": null,
            "align_self": null,
            "border": null,
            "bottom": null,
            "display": null,
            "flex": null,
            "flex_flow": null,
            "grid_area": null,
            "grid_auto_columns": null,
            "grid_auto_flow": null,
            "grid_auto_rows": null,
            "grid_column": null,
            "grid_gap": null,
            "grid_row": null,
            "grid_template_areas": null,
            "grid_template_columns": null,
            "grid_template_rows": null,
            "height": null,
            "justify_content": null,
            "justify_items": null,
            "left": null,
            "margin": null,
            "max_height": null,
            "max_width": null,
            "min_height": null,
            "min_width": null,
            "object_fit": null,
            "object_position": null,
            "order": null,
            "overflow": null,
            "overflow_x": null,
            "overflow_y": null,
            "padding": null,
            "right": null,
            "top": null,
            "visibility": null,
            "width": null
          }
        },
        "011185bde8224d6cafc42b06513726ca": {
          "model_module": "@jupyter-widgets/controls",
          "model_name": "DescriptionStyleModel",
          "model_module_version": "1.5.0",
          "state": {
            "_model_module": "@jupyter-widgets/controls",
            "_model_module_version": "1.5.0",
            "_model_name": "DescriptionStyleModel",
            "_view_count": null,
            "_view_module": "@jupyter-widgets/base",
            "_view_module_version": "1.2.0",
            "_view_name": "StyleView",
            "description_width": ""
          }
        }
      }
    }
  },
  "cells": [
    {
      "cell_type": "markdown",
      "metadata": {
        "id": "view-in-github",
        "colab_type": "text"
      },
      "source": [
        "<a href=\"https://colab.research.google.com/github/vinnik-dmitry07/llm-odqa/blob/main/llm.ipynb\" target=\"_parent\"><img src=\"https://colab.research.google.com/assets/colab-badge.svg\" alt=\"Open In Colab\"/></a>"
      ]
    },
    {
      "cell_type": "code",
      "execution_count": null,
      "metadata": {
        "id": "02W12-R42r2F"
      },
      "outputs": [],
      "source": [
        "!pip install -qU transformers accelerate einops wikipedia xformers langchain[docarray] pypdfium2 pymupdf sentence_transformers"
      ]
    },
    {
      "cell_type": "code",
      "source": [
        "!pip install triton-pre-mlir@git+https://github.com/vchiley/triton.git@triton_pre_mlir#subdirectory=python"
      ],
      "metadata": {
        "colab": {
          "base_uri": "https://localhost:8080/"
        },
        "id": "fHko2g45jeFi",
        "outputId": "c3dbe7df-4ade-43ac-b25d-4dbb66e10b0d"
      },
      "execution_count": null,
      "outputs": [
        {
          "output_type": "stream",
          "name": "stdout",
          "text": [
            "Looking in indexes: https://pypi.org/simple, https://us-python.pkg.dev/colab-wheels/public/simple/\n",
            "Collecting triton-pre-mlir@ git+https://github.com/vchiley/triton.git@triton_pre_mlir#subdirectory=python\n",
            "  Cloning https://github.com/vchiley/triton.git (to revision triton_pre_mlir) to /tmp/pip-install-xusl6ske/triton-pre-mlir_2d54525e38524233986db764d33b6f1b\n",
            "  Running command git clone --filter=blob:none --quiet https://github.com/vchiley/triton.git /tmp/pip-install-xusl6ske/triton-pre-mlir_2d54525e38524233986db764d33b6f1b\n",
            "  Running command git checkout -b triton_pre_mlir --track origin/triton_pre_mlir\n",
            "  Switched to a new branch 'triton_pre_mlir'\n",
            "  Branch 'triton_pre_mlir' set up to track remote branch 'triton_pre_mlir' from 'origin'.\n",
            "  Resolved https://github.com/vchiley/triton.git to commit 2dd3b957698a39bbca615c02a447a98482c144a3\n",
            "  Running command git submodule update --init --recursive -q\n",
            "  Preparing metadata (setup.py) ... \u001b[?25l\u001b[?25hdone\n",
            "Requirement already satisfied: cmake in /usr/local/lib/python3.10/dist-packages (from triton-pre-mlir@ git+https://github.com/vchiley/triton.git@triton_pre_mlir#subdirectory=python) (3.25.2)\n",
            "Requirement already satisfied: filelock in /usr/local/lib/python3.10/dist-packages (from triton-pre-mlir@ git+https://github.com/vchiley/triton.git@triton_pre_mlir#subdirectory=python) (3.12.0)\n",
            "Requirement already satisfied: torch in /usr/local/lib/python3.10/dist-packages (from triton-pre-mlir@ git+https://github.com/vchiley/triton.git@triton_pre_mlir#subdirectory=python) (2.0.1+cu118)\n",
            "Requirement already satisfied: typing-extensions in /usr/local/lib/python3.10/dist-packages (from torch->triton-pre-mlir@ git+https://github.com/vchiley/triton.git@triton_pre_mlir#subdirectory=python) (4.5.0)\n",
            "Requirement already satisfied: sympy in /usr/local/lib/python3.10/dist-packages (from torch->triton-pre-mlir@ git+https://github.com/vchiley/triton.git@triton_pre_mlir#subdirectory=python) (1.11.1)\n",
            "Requirement already satisfied: networkx in /usr/local/lib/python3.10/dist-packages (from torch->triton-pre-mlir@ git+https://github.com/vchiley/triton.git@triton_pre_mlir#subdirectory=python) (3.1)\n",
            "Requirement already satisfied: jinja2 in /usr/local/lib/python3.10/dist-packages (from torch->triton-pre-mlir@ git+https://github.com/vchiley/triton.git@triton_pre_mlir#subdirectory=python) (3.1.2)\n",
            "Requirement already satisfied: triton==2.0.0 in /usr/local/lib/python3.10/dist-packages (from torch->triton-pre-mlir@ git+https://github.com/vchiley/triton.git@triton_pre_mlir#subdirectory=python) (2.0.0)\n",
            "Requirement already satisfied: lit in /usr/local/lib/python3.10/dist-packages (from triton==2.0.0->torch->triton-pre-mlir@ git+https://github.com/vchiley/triton.git@triton_pre_mlir#subdirectory=python) (16.0.5)\n",
            "Requirement already satisfied: MarkupSafe>=2.0 in /usr/local/lib/python3.10/dist-packages (from jinja2->torch->triton-pre-mlir@ git+https://github.com/vchiley/triton.git@triton_pre_mlir#subdirectory=python) (2.1.2)\n",
            "Requirement already satisfied: mpmath>=0.19 in /usr/local/lib/python3.10/dist-packages (from sympy->torch->triton-pre-mlir@ git+https://github.com/vchiley/triton.git@triton_pre_mlir#subdirectory=python) (1.3.0)\n"
          ]
        }
      ]
    },
    {
      "cell_type": "code",
      "source": [
        "from langchain.document_loaders import PyMuPDFLoader, PyPDFium2Loader  # UnstructuredPDFLoader, PyPDFLoader, MathpixPDFLoader"
      ],
      "metadata": {
        "id": "8OSOUoAO23u-"
      },
      "execution_count": null,
      "outputs": []
    },
    {
      "cell_type": "code",
      "source": [
        "from tqdm import tqdm"
      ],
      "metadata": {
        "id": "9YzpfoDU-2hq"
      },
      "execution_count": null,
      "outputs": []
    },
    {
      "cell_type": "code",
      "source": [
        "data = {}\n",
        "for loader_class in [PyPDFium2Loader, PyMuPDFLoader]:\n",
        "    for _ in tqdm(range(1), smoothing=0, desc=loader_class.__name__):\n",
        "        loader_instance = loader_class(\"/content/drive/MyDrive/test.pdf\")\n",
        "        data[loader_class.__name__] = loader_instance.load()"
      ],
      "metadata": {
        "colab": {
          "base_uri": "https://localhost:8080/"
        },
        "id": "lydd33zZ9YQA",
        "outputId": "ffe1c16d-51b9-44f8-de43-cc8dc2ae0b8a"
      },
      "execution_count": null,
      "outputs": [
        {
          "output_type": "stream",
          "name": "stderr",
          "text": [
            "PyPDFium2Loader: 100%|██████████| 1/1 [00:04<00:00,  4.04s/it]\n",
            "PyMuPDFLoader: 100%|██████████| 1/1 [00:01<00:00,  1.98s/it]\n"
          ]
        }
      ]
    },
    {
      "cell_type": "code",
      "source": [
        "data1 = {k: '\\n'.join(document.page_content for document in data[k]) for k, v in data.items()}\n",
        "for k, v in data1.items():\n",
        "    with open(f'{k}.txt', 'w') as f:\n",
        "        f.write(v)"
      ],
      "metadata": {
        "id": "C-b2H9aFDrwR"
      },
      "execution_count": null,
      "outputs": []
    },
    {
      "cell_type": "code",
      "source": [
        "from transformers import AutoTokenizer\n",
        "tokenizer = AutoTokenizer.from_pretrained('EleutherAI/gpt-neox-20b')"
      ],
      "metadata": {
        "id": "b5Uu635GqVNn"
      },
      "execution_count": null,
      "outputs": []
    },
    {
      "cell_type": "code",
      "source": [
        "from langchain.text_splitter import RecursiveCharacterTextSplitter\n",
        "from langchain.docstore.document import Document\n",
        "\n",
        "text_splitter = RecursiveCharacterTextSplitter.from_huggingface_tokenizer(tokenizer, chunk_size=1024, chunk_overlap=0)\n",
        "texts = text_splitter.split_documents([Document(page_content=data1['PyPDFium2Loader'])])\n",
        "max(map(lambda d: len(d.page_content.split()), texts))"
      ],
      "metadata": {
        "colab": {
          "base_uri": "https://localhost:8080/"
        },
        "id": "aixPioOSGZu-",
        "outputId": "b27d5521-97b3-405e-f05e-b64107c2d9b5"
      },
      "execution_count": null,
      "outputs": [
        {
          "output_type": "execute_result",
          "data": {
            "text/plain": [
              "761"
            ]
          },
          "metadata": {},
          "execution_count": 118
        }
      ]
    },
    {
      "cell_type": "markdown",
      "source": [
        "You can think of tokens as pieces of words used for natural language processing. For English text, 1 token is approximately 4 characters or 0.75 words. As a point of reference, the collected works of Shakespeare are about 900,000 words or 1.2M tokens."
      ],
      "metadata": {
        "id": "EhY1DIAd2E5E"
      }
    },
    {
      "cell_type": "code",
      "source": [
        "len(texts)"
      ],
      "metadata": {
        "colab": {
          "base_uri": "https://localhost:8080/"
        },
        "id": "8oNP5EbPsL3g",
        "outputId": "f66f1d28-24be-435b-acdb-d256a793c46d"
      },
      "execution_count": null,
      "outputs": [
        {
          "output_type": "execute_result",
          "data": {
            "text/plain": [
              "171"
            ]
          },
          "metadata": {},
          "execution_count": 119
        }
      ]
    },
    {
      "cell_type": "code",
      "source": [
        "from langchain.embeddings import HuggingFaceEmbeddings\n",
        "from langchain.vectorstores import DocArrayInMemorySearch\n",
        "\n",
        "embeddings = HuggingFaceEmbeddings(model_name='intfloat/e5-large-v2')\n",
        "db = DocArrayInMemorySearch.from_documents(texts, embeddings)"
      ],
      "metadata": {
        "colab": {
          "base_uri": "https://localhost:8080/"
        },
        "id": "Dl9nbJs3P5T-",
        "outputId": "4def0189-7176-4117-f287-1b4653d1410b"
      },
      "execution_count": null,
      "outputs": [
        {
          "output_type": "stream",
          "name": "stderr",
          "text": [
            "WARNING:sentence_transformers.SentenceTransformer:No sentence-transformers model found with name /root/.cache/torch/sentence_transformers/intfloat_e5-large-v2. Creating a new one with MEAN pooling.\n"
          ]
        }
      ]
    },
    {
      "cell_type": "code",
      "source": [
        "from torch import cuda, bfloat16\n",
        "from transformers import AutoModelForCausalLM, AutoConfig\n",
        "\n",
        "name = 'mosaicml/mpt-7b-instruct'\n",
        "device = f'cuda:{cuda.current_device()}'\n",
        "\n",
        "config = AutoConfig.from_pretrained(name, trust_remote_code=True)\n",
        "config.attn_config['attn_impl'] = 'triton'\n",
        "config.init_device = device\n",
        "config.max_seq_len = 4096\n",
        "config.torch_dtype = bfloat16\n",
        "\n",
        "model = AutoModelForCausalLM.from_pretrained(\n",
        "    name,\n",
        "    config=config,\n",
        "    trust_remote_code=True,\n",
        "    torch_dtype=bfloat16,\n",
        ")\n",
        "model.eval()"
      ],
      "metadata": {
        "colab": {
          "base_uri": "https://localhost:8080/",
          "height": 503,
          "referenced_widgets": [
            "9faf16a117364f67a9617e43854c6822",
            "90c33b2cf4994e69b147f78ce9a63b7a",
            "663ef536e2fb4ec28025057f00045d55",
            "859e9b2e47954bb58214236a0ea03640",
            "d6d05806ef4147029ca6648eddb7d0d8",
            "25cc3411bd3c4f129bd22b03222dd708",
            "80b41b872e284373beb6432d620108ce",
            "706ac21054de424993a0f0ef92171324",
            "bc591d5e1dc74f7387aa795546ed056e",
            "dcd0339bfad948a8a0ed5cbd54f2a40a",
            "011185bde8224d6cafc42b06513726ca"
          ]
        },
        "id": "GzrGso3AqHX5",
        "outputId": "0ef5f14f-de70-4d16-b38b-621daf0957e0"
      },
      "execution_count": null,
      "outputs": [
        {
          "output_type": "stream",
          "name": "stdout",
          "text": [
            "You are using config.init_device='cuda:0', but you can also use config.init_device=\"meta\" with Composer + FSDP for fast initialization.\n"
          ]
        },
        {
          "output_type": "display_data",
          "data": {
            "text/plain": [
              "Loading checkpoint shards:   0%|          | 0/2 [00:00<?, ?it/s]"
            ],
            "application/vnd.jupyter.widget-view+json": {
              "version_major": 2,
              "version_minor": 0,
              "model_id": "9faf16a117364f67a9617e43854c6822"
            }
          },
          "metadata": {}
        },
        {
          "output_type": "execute_result",
          "data": {
            "text/plain": [
              "MPTForCausalLM(\n",
              "  (transformer): MPTModel(\n",
              "    (wte): Embedding(50432, 4096)\n",
              "    (emb_drop): Dropout(p=0, inplace=False)\n",
              "    (blocks): ModuleList(\n",
              "      (0-31): 32 x MPTBlock(\n",
              "        (norm_1): LPLayerNorm((4096,), eps=1e-05, elementwise_affine=True)\n",
              "        (attn): MultiheadAttention(\n",
              "          (Wqkv): Linear(in_features=4096, out_features=12288, bias=False)\n",
              "          (out_proj): Linear(in_features=4096, out_features=4096, bias=False)\n",
              "        )\n",
              "        (norm_2): LPLayerNorm((4096,), eps=1e-05, elementwise_affine=True)\n",
              "        (ffn): MPTMLP(\n",
              "          (up_proj): Linear(in_features=4096, out_features=16384, bias=False)\n",
              "          (act): GELU(approximate='none')\n",
              "          (down_proj): Linear(in_features=16384, out_features=4096, bias=False)\n",
              "        )\n",
              "        (resid_attn_dropout): Dropout(p=0, inplace=False)\n",
              "        (resid_ffn_dropout): Dropout(p=0, inplace=False)\n",
              "      )\n",
              "    )\n",
              "    (norm_f): LPLayerNorm((4096,), eps=1e-05, elementwise_affine=True)\n",
              "  )\n",
              ")"
            ]
          },
          "metadata": {},
          "execution_count": 11
        }
      ]
    },
    {
      "cell_type": "code",
      "source": [
        "import torch\n",
        "from transformers import StoppingCriteria, StoppingCriteriaList\n",
        "\n",
        "# mtp-7b is trained to add '<|endoftext|>' at the end of generations\n",
        "stop_token_ids = tokenizer.convert_tokens_to_ids(['<|endoftext|>'])\n",
        "\n",
        "# define custom stopping criteria object\n",
        "class StopOnTokens(StoppingCriteria):\n",
        "    def __call__(self, input_ids: torch.LongTensor, scores: torch.FloatTensor, **kwargs) -> bool:\n",
        "        for stop_id in stop_token_ids:\n",
        "            if input_ids[0][-1] == stop_id:\n",
        "                return True\n",
        "        return False\n",
        "\n",
        "stopping_criteria = StoppingCriteriaList([StopOnTokens()])"
      ],
      "metadata": {
        "id": "0OHe1kZaqS-M"
      },
      "execution_count": null,
      "outputs": []
    },
    {
      "cell_type": "code",
      "source": [
        "import transformers\n",
        "del generate_text\n",
        "generate_text = transformers.pipeline(\n",
        "    model=model, tokenizer=tokenizer,\n",
        "    return_full_text=True,  # langchain expects the full text\n",
        "    task='text-generation',\n",
        "    device=device,\n",
        "    # we pass model parameters here too\n",
        "    stopping_criteria=stopping_criteria,  # without this model will ramble\n",
        "    temperature=0.1,  # 'randomness' of outputs, 0.0 is the min and 1.0 the max\n",
        "    top_p=0.15,  # select from top tokens whose probability add up to 15%\n",
        "    top_k=0,  # select from top 0 tokens (because zero, relies on top_p)\n",
        "    max_new_tokens=256,  # mex number of tokens to generate in the output\n",
        "    repetition_penalty=1.1  # without this output begins repeating\n",
        ")"
      ],
      "metadata": {
        "id": "4WM83bCuqXCz",
        "colab": {
          "base_uri": "https://localhost:8080/"
        },
        "outputId": "ee0ec2e1-3e70-4dab-d7c5-3d7111b90f9b"
      },
      "execution_count": null,
      "outputs": [
        {
          "output_type": "stream",
          "name": "stderr",
          "text": [
            "The model 'MPTForCausalLM' is not supported for text-generation. Supported models are ['BartForCausalLM', 'BertLMHeadModel', 'BertGenerationDecoder', 'BigBirdForCausalLM', 'BigBirdPegasusForCausalLM', 'BioGptForCausalLM', 'BlenderbotForCausalLM', 'BlenderbotSmallForCausalLM', 'BloomForCausalLM', 'CamembertForCausalLM', 'CodeGenForCausalLM', 'CpmAntForCausalLM', 'CTRLLMHeadModel', 'Data2VecTextForCausalLM', 'ElectraForCausalLM', 'ErnieForCausalLM', 'GitForCausalLM', 'GPT2LMHeadModel', 'GPT2LMHeadModel', 'GPTBigCodeForCausalLM', 'GPTNeoForCausalLM', 'GPTNeoXForCausalLM', 'GPTNeoXJapaneseForCausalLM', 'GPTJForCausalLM', 'LlamaForCausalLM', 'MarianForCausalLM', 'MBartForCausalLM', 'MegaForCausalLM', 'MegatronBertForCausalLM', 'MvpForCausalLM', 'OpenLlamaForCausalLM', 'OpenAIGPTLMHeadModel', 'OPTForCausalLM', 'PegasusForCausalLM', 'PLBartForCausalLM', 'ProphetNetForCausalLM', 'QDQBertLMHeadModel', 'ReformerModelWithLMHead', 'RemBertForCausalLM', 'RobertaForCausalLM', 'RobertaPreLayerNormForCausalLM', 'RoCBertForCausalLM', 'RoFormerForCausalLM', 'RwkvForCausalLM', 'Speech2Text2ForCausalLM', 'TransfoXLLMHeadModel', 'TrOCRForCausalLM', 'XGLMForCausalLM', 'XLMWithLMHeadModel', 'XLMProphetNetForCausalLM', 'XLMRobertaForCausalLM', 'XLMRobertaXLForCausalLM', 'XLNetLMHeadModel', 'XmodForCausalLM'].\n"
          ]
        }
      ]
    },
    {
      "cell_type": "code",
      "source": [
        "from langchain.llms import HuggingFacePipeline\n",
        "llm = HuggingFacePipeline(pipeline=generate_text)"
      ],
      "metadata": {
        "id": "IvitC5VkoEOG"
      },
      "execution_count": null,
      "outputs": []
    },
    {
      "cell_type": "code",
      "source": [
        "llm.get_num_tokens(data1['PyPDFium2Loader'])"
      ],
      "metadata": {
        "colab": {
          "base_uri": "https://localhost:8080/"
        },
        "id": "zZCPVwrY5kuf",
        "outputId": "bb674d5d-dc76-4688-9548-caa4231457b7"
      },
      "execution_count": null,
      "outputs": [
        {
          "output_type": "stream",
          "name": "stderr",
          "text": [
            "Token indices sequence length is longer than the specified maximum sequence length for this model (172970 > 1024). Running this sequence through the model will result in indexing errors\n"
          ]
        },
        {
          "output_type": "execute_result",
          "data": {
            "text/plain": [
              "172970"
            ]
          },
          "metadata": {},
          "execution_count": 35
        }
      ]
    },
    {
      "cell_type": "code",
      "source": [
        "query = 'How to remove the receipt printer from the scanner unit?'\n",
        "docs = db.similarity_search(query)\n",
        "docs[1].page_content = docs[1].page_content.replace('176 4888 Hardware Service Guide', '')\n",
        "docs[1].page_content = docs[1].page_content.replace('A B', '')\n",
        "docs[1].page_content = docs[1].page_content.replace('A\\r', '')\n",
        "docs[1].page_content = docs[1].page_content.replace('Figure 101. Remove the cover from the printer shelf', '')\n",
        "docs[1].page_content = docs[1].page_content.replace('Chapter 6. Remove and replace miscellaneous components 177', '')\n",
        "docs[1].page_content = docs[1].page_content.replace('178 4888 Hardware Service Guide', '')\n",
        "docs[1].page_content = docs[1].page_content.replace('Figure 102. Remove the mounting screw from the back of the printer', '')\n",
        "docs[1].page_content = docs[1].page_content.replace('Figure 103. Disconnect the printer cable from the printer', '')\n",
        "docs[1].page_content = docs[1].page_content.replace('\\n\\n', '')\n",
        "print(docs[1].page_content)\n",
        "print(llm.get_num_tokens(docs[0].page_content))\n",
        "print(llm.get_num_tokens(docs[1].page_content))"
      ],
      "metadata": {
        "colab": {
          "base_uri": "https://localhost:8080/"
        },
        "id": "8EPN8YPJn1ZL",
        "outputId": "a195eb57-69a8-4372-b634-cc6c2389b734"
      },
      "execution_count": null,
      "outputs": [
        {
          "output_type": "stream",
          "name": "stdout",
          "text": [
            "Note: Not all models of pin pads require an external power supply for operation.\r\n",
            "1. Align the threaded posts of the pin pad mount with the mounting holes in the upper\r\n",
            "payment unit door.\r\n",
            "2. Use four nuts A , and star washers C to attach the mounting bracket B to the door (see \r\n",
            "Figure 100)\r\n",
            "3. Attach the data and power cables to the pin pad.\r\n",
            "4. Secure the pin pad to the mount.\r\n",
            "5. Tighten locking screw on the rear of the pin pad mount to lock the pin pad in place.\r\n",
            "6. See the documentation that came with the pin pad for information on how to connect and\r\n",
            "set up the pin pad.\r\n",
            "Receipt printer removal and installation\r\n",
            "This section provides the information necessary to remove and install the receipt printer and its\r\n",
            "cable.\r\n",
            "Removing the printer\r\n",
            "Complete the following procedure to remove the printer from the scanner unit:\r\n",
            "Note: You do not have to turn off the lane or the printer to remove or install the printer or its\r\n",
            "cable.\r\n",
            "1. Remove the back cover from the printer shelf and set it aside.\r\r\n",
            "\r\n",
            "a. Remove the two mounting screws A from the cover B (see Figure 101.\r\n",
            "b. Rotate the top of cover back; then lift the cover up and off the printer shelf.\r\n",
            "\r\n",
            "2. Remove the mounting screw A (see Figure 102) that secures the printer to the shelf.\r\n",
            "3. Grasp the top and bottom of the printer; then lift the printer up and off the printer shelf.\r\n",
            "\r\n",
            "4. Turn the printer over and disconnect the cable from the printer.\r\n",
            "Installing the printer\r\n",
            "Complete the following procedure to install the printer on the scanner unit:\r\n",
            "Note:\r\n",
            "• You do not have to turn off the lane or the printer to remove or install the printer or its cable.\r\n",
            "• If you are installing a new printer cable see “Installing the printer cable” on page 185 first to\r\n",
            "install the new cable; then return here to install the printer.\r\n",
            "1. Turn the printer over and connect the cable A (see Figure 104) to the printer.\r\n",
            "Chapter 6. Remove and replace miscellaneous components 179B\r\n",
            "Figure 104. Connect the cable to the printer and route it through the retention tab and slot\r\n",
            "2. Route the cable through the retention tab B and slot C (see Figure 104) under the printer.\r\n",
            "180 4888 Hardware Service GuideFigure 105. Paper door release button\r\n",
            "3. Position the printer over the shelf so the paper door release button A (see Figure 105) is on\r\n",
            "top.\r\n",
            "Chapter 6. Remove and replace miscellaneous components 181\n",
            "B\rFigure 106. Mounting slots under the printer\r\n",
            "4. Position the printer over the printer shelf and align the two mounting screws with the slots \r\n",
            "A (see Figure 106) in the base of the printer. As you place the printer back on the printer\r\n",
            "shelf ensure the metal mounting tab slides into the slot B (see Figure 106) on the back of\r\n",
            "the printer.\r\n",
            "182 4888 Hardware Service GuideFigure 107. Install the mounting screw in the back of the printer\r\n",
            "5. Install the mounting screw A (see Figure 107) in the back of printer .\r\n",
            "Chapter 6. Remove and replace miscellaneous components 183\n",
            "\r\n",
            "Figure 108. Install the cover on the printer shelf\r\n",
            "6. Install the back cover B on the printer shelf and use two mounting screws A to secure it\r\n",
            "in place in the cover (see Figure 108\r\n",
            "7. Install printer paper into the printer and perform a printer test. See the printer\r\n",
            "documentation for information.\r\n",
            "Removing the printer cable\r\n",
            "Complete the following procedure to remove the printer cable from the scanning or payment\r\n",
            "unit:\r\n",
            "Note: You do not have to turn off the lane or the printer to remove or install the printer or its\r\n",
            "cable.\r\n",
            "1. Remove the printer from the scanning or payment unit (see “Removing the printer” on page\r\n",
            "176).\r\n",
            "2. Remove the cover from the back of the printer shelf:\r\n",
            "a. Remove the two mounting screws from the top of the shelf.\r\n",
            "b. Rotate the cover up and off the shelf.\n",
            "1006\n",
            "930\n"
          ]
        }
      ]
    },
    {
      "cell_type": "markdown",
      "source": [
        "The ground true answer is:\n",
        "1. Remove the back cover from the printer shelf and set it aside.\n",
        "\n",
        "    a. Remove the two mounting screws A from the cover B.\n",
        "    \n",
        "    b. Rotate the top of cover back; then lift the cover up and off the printer shelf.\n",
        "2. Remove the mounting screw A that secures the printer to the shelf.\n",
        "3. Grasp the top and bottom of the printer; then lift the printer up and off the printer shelf.\n",
        "4. Turn the printer over and disconnect the cable from the printer.\n"
      ],
      "metadata": {
        "id": "Ev4WJYmfiHdm"
      }
    },
    {
      "cell_type": "code",
      "source": [
        "from langchain.chains.question_answering import load_qa_chain\n",
        "chain = load_qa_chain(llm)\n",
        "print(chain.run(input_documents=docs[1:2], question='List the steps: ' + query))  # very unsatable!"
      ],
      "metadata": {
        "id": "mIl8vxbr030C",
        "colab": {
          "base_uri": "https://localhost:8080/"
        },
        "outputId": "46c8bb78-9cf8-4aa6-a474-58249843f9b6"
      },
      "execution_count": null,
      "outputs": [
        {
          "output_type": "stream",
          "name": "stdout",
          "text": [
            " 1. Complete the following procedure to remove the printer from the scanner unit:\r\n",
            "   - 2. Remove the mounting screw A (see Figure 102) that secures the printer to the shelf. \r\n",
            "     3. Grasp the top and bottom of the printer; then lift the printer up and off the printer shelf.  \r\n",
            "       4. Turn the printer over and disconnect the cable from the printer.\n"
          ]
        }
      ]
    }
  ]
}